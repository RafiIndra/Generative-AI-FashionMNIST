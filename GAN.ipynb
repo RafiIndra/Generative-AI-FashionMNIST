{
  "nbformat": 4,
  "nbformat_minor": 0,
  "metadata": {
    "colab": {
      "provenance": []
    },
    "kernelspec": {
      "name": "python3",
      "display_name": "Python 3"
    },
    "language_info": {
      "name": "python"
    }
  },
  "cells": [
    {
      "cell_type": "code",
      "source": [
        "import tensorflow as tf\n",
        "import tensorflow_datasets as tfds\n",
        "import keras\n",
        "from keras.models import Sequential\n",
        "from keras.layers import Dense, Reshape, BatchNormalization, LeakyReLU, UpSampling2D, Conv2D, ReLU, Flatten, Dropout\n",
        "import matplotlib.pyplot as plt\n",
        "import torch\n",
        "import torchvision"
      ],
      "metadata": {
        "id": "OkgTuoPwbMb5"
      },
      "execution_count": 64,
      "outputs": []
    },
    {
      "cell_type": "code",
      "source": [
        "# Function to normalize images\n",
        "def normalize_image(image, mean=0.5, std=0.5):\n",
        "    image = tf.image.convert_image_dtype(image, tf.float32)  # Converts [0, 255] to [0, 1]\n",
        "    image = (image - mean) / std  # Normalize to [-1, 1]\n",
        "    return image\n",
        "\n",
        "# Function to preprocess the dataset\n",
        "def preprocess_data(image, label):\n",
        "    image = normalize_image(image)\n",
        "    return image, label\n",
        "\n",
        "# Example with MNIST dataset\n",
        "dataset = tfds.load('FashionMNIST', split='train', as_supervised=True, batch_size=32)\n",
        "\n",
        "# Apply preprocessing\n",
        "ds1 = dataset.map(preprocess_data, num_parallel_calls=tf.data.experimental.AUTOTUNE)\n",
        "\n",
        "# Set up DataLoader\n",
        "batch_size = 32\n",
        "# dataloader = dataset.shuffle(10000).batch(batch_size).prefetch(tf.data.experimental.AUTOTUNE)\n"
      ],
      "metadata": {
        "id": "UDF4vr3uE7HH"
      },
      "execution_count": 42,
      "outputs": []
    },
    {
      "cell_type": "code",
      "source": [
        "ds = tfds.load('FashionMNIST', split='train', shuffle_files=True)\n",
        "ds1 = ds.batch(32, drop_remainder=True)"
      ],
      "metadata": {
        "id": "3G6khUnCHVlz"
      },
      "execution_count": 31,
      "outputs": []
    },
    {
      "cell_type": "code",
      "source": [
        "len(ds1)"
      ],
      "metadata": {
        "colab": {
          "base_uri": "https://localhost:8080/"
        },
        "id": "yBomt5b6afEx",
        "outputId": "a4bba632-f2f5-46c0-b301-e839010e4883"
      },
      "execution_count": 43,
      "outputs": [
        {
          "output_type": "execute_result",
          "data": {
            "text/plain": [
              "1875"
            ]
          },
          "metadata": {},
          "execution_count": 43
        }
      ]
    },
    {
      "cell_type": "code",
      "source": [
        "latent_dim = 100\n",
        "generator = Sequential()\n",
        "\n",
        "# Input layer\n",
        "generator.add(Dense(128 * 7 * 7, input_dim=100))\n",
        "generator.add(ReLU())\n",
        "generator.add(Reshape((7, 7, 128)))\n",
        "\n",
        "# Upsampling layers\n",
        "generator.add(UpSampling2D(size=(2, 2)))\n",
        "generator.add(Conv2D(128, kernel_size=(3, 3), padding='same'))\n",
        "generator.add(BatchNormalization(momentum=0.78))\n",
        "generator.add(ReLU())\n",
        "\n",
        "generator.add(UpSampling2D(size=(2, 2)))\n",
        "generator.add(Conv2D(64, kernel_size=(3, 3), padding='same'))\n",
        "generator.add(BatchNormalization(momentum=0.78))\n",
        "generator.add(ReLU())\n",
        "\n",
        "# Output layer\n",
        "generator.add(Conv2D(1, kernel_size=(3, 3), activation='tanh', padding='same'))\n",
        "\n",
        "# Display the generator architecture\n",
        "generator.summary()"
      ],
      "metadata": {
        "colab": {
          "base_uri": "https://localhost:8080/"
        },
        "id": "m5aHlpHVI917",
        "outputId": "70a626b2-41aa-41c6-c269-1274b0b1c73b"
      },
      "execution_count": 44,
      "outputs": [
        {
          "output_type": "stream",
          "name": "stdout",
          "text": [
            "Model: \"sequential_8\"\n",
            "_________________________________________________________________\n",
            " Layer (type)                Output Shape              Param #   \n",
            "=================================================================\n",
            " dense_8 (Dense)             (None, 6272)              633472    \n",
            "                                                                 \n",
            " re_lu_10 (ReLU)             (None, 6272)              0         \n",
            "                                                                 \n",
            " reshape_4 (Reshape)         (None, 7, 7, 128)         0         \n",
            "                                                                 \n",
            " up_sampling2d_7 (UpSamplin  (None, 14, 14, 128)       0         \n",
            " g2D)                                                            \n",
            "                                                                 \n",
            " conv2d_20 (Conv2D)          (None, 14, 14, 128)       147584    \n",
            "                                                                 \n",
            " batch_normalization_13 (Ba  (None, 14, 14, 128)       512       \n",
            " tchNormalization)                                               \n",
            "                                                                 \n",
            " re_lu_11 (ReLU)             (None, 14, 14, 128)       0         \n",
            "                                                                 \n",
            " up_sampling2d_8 (UpSamplin  (None, 28, 28, 128)       0         \n",
            " g2D)                                                            \n",
            "                                                                 \n",
            " conv2d_21 (Conv2D)          (None, 28, 28, 64)        73792     \n",
            "                                                                 \n",
            " batch_normalization_14 (Ba  (None, 28, 28, 64)        256       \n",
            " tchNormalization)                                               \n",
            "                                                                 \n",
            " re_lu_12 (ReLU)             (None, 28, 28, 64)        0         \n",
            "                                                                 \n",
            " conv2d_22 (Conv2D)          (None, 28, 28, 1)         577       \n",
            "                                                                 \n",
            "=================================================================\n",
            "Total params: 856193 (3.27 MB)\n",
            "Trainable params: 855809 (3.26 MB)\n",
            "Non-trainable params: 384 (1.50 KB)\n",
            "_________________________________________________________________\n"
          ]
        }
      ]
    },
    {
      "cell_type": "code",
      "source": [
        "discriminator = Sequential()\n",
        "\n",
        "# Input layer\n",
        "discriminator.add(Conv2D(32, kernel_size=(3, 3), strides=(2, 2), padding='same', input_shape=(28, 28, 1)))\n",
        "discriminator.add(LeakyReLU(alpha=0.2))\n",
        "\n",
        "# Hidden layers\n",
        "discriminator.add(Conv2D(64, kernel_size=(3, 3), strides=(2, 2), padding='same'))\n",
        "discriminator.add(BatchNormalization(momentum=0.82))\n",
        "discriminator.add(LeakyReLU(alpha=0.2))\n",
        "\n",
        "discriminator.add(Conv2D(128, kernel_size=(3, 3), strides=(2, 2), padding='same'))\n",
        "discriminator.add(BatchNormalization(momentum=0.82))\n",
        "discriminator.add(LeakyReLU(alpha=0.2))\n",
        "discriminator.add(Dropout(0.25))\n",
        "\n",
        "discriminator.add(Conv2D(256, kernel_size=(3, 3), strides=(2, 2), padding='same'))\n",
        "discriminator.add(BatchNormalization(momentum=0.8))\n",
        "discriminator.add(LeakyReLU(alpha=0.25))\n",
        "discriminator.add(Dropout(0.25))\n",
        "\n",
        "discriminator.add(Flatten())\n",
        "\n",
        "# Output layer\n",
        "discriminator.add(Dense(1, activation='sigmoid'))\n",
        "\n",
        "# Display the discriminator architecture\n",
        "discriminator.summary()"
      ],
      "metadata": {
        "colab": {
          "base_uri": "https://localhost:8080/"
        },
        "id": "ouVGEF6wa9NK",
        "outputId": "2e34cc79-c4a8-4a31-efc7-452714ef1cbf"
      },
      "execution_count": 45,
      "outputs": [
        {
          "output_type": "stream",
          "name": "stdout",
          "text": [
            "Model: \"sequential_9\"\n",
            "_________________________________________________________________\n",
            " Layer (type)                Output Shape              Param #   \n",
            "=================================================================\n",
            " conv2d_23 (Conv2D)          (None, 14, 14, 32)        320       \n",
            "                                                                 \n",
            " leaky_re_lu_10 (LeakyReLU)  (None, 14, 14, 32)        0         \n",
            "                                                                 \n",
            " conv2d_24 (Conv2D)          (None, 7, 7, 64)          18496     \n",
            "                                                                 \n",
            " batch_normalization_15 (Ba  (None, 7, 7, 64)          256       \n",
            " tchNormalization)                                               \n",
            "                                                                 \n",
            " leaky_re_lu_11 (LeakyReLU)  (None, 7, 7, 64)          0         \n",
            "                                                                 \n",
            " conv2d_25 (Conv2D)          (None, 4, 4, 128)         73856     \n",
            "                                                                 \n",
            " batch_normalization_16 (Ba  (None, 4, 4, 128)         512       \n",
            " tchNormalization)                                               \n",
            "                                                                 \n",
            " leaky_re_lu_12 (LeakyReLU)  (None, 4, 4, 128)         0         \n",
            "                                                                 \n",
            " dropout_2 (Dropout)         (None, 4, 4, 128)         0         \n",
            "                                                                 \n",
            " conv2d_26 (Conv2D)          (None, 2, 2, 256)         295168    \n",
            "                                                                 \n",
            " batch_normalization_17 (Ba  (None, 2, 2, 256)         1024      \n",
            " tchNormalization)                                               \n",
            "                                                                 \n",
            " leaky_re_lu_13 (LeakyReLU)  (None, 2, 2, 256)         0         \n",
            "                                                                 \n",
            " dropout_3 (Dropout)         (None, 2, 2, 256)         0         \n",
            "                                                                 \n",
            " flatten_3 (Flatten)         (None, 1024)              0         \n",
            "                                                                 \n",
            " dense_9 (Dense)             (None, 1)                 1025      \n",
            "                                                                 \n",
            "=================================================================\n",
            "Total params: 390657 (1.49 MB)\n",
            "Trainable params: 389761 (1.49 MB)\n",
            "Non-trainable params: 896 (3.50 KB)\n",
            "_________________________________________________________________\n"
          ]
        }
      ]
    },
    {
      "cell_type": "code",
      "source": [
        "import numpy as np\n",
        "from tensorflow.keras.preprocessing.image import ImageDataGenerator\n",
        "\n",
        "# Set the number of epochs and batch size for training\n",
        "epochs = 10\n",
        "batch_size = 32\n",
        "\n",
        "optimizer_G = tf.keras.optimizers.Adam(learning_rate=0.0002, beta_1=0.5)\n",
        "optimizer_D = tf.keras.optimizers.Adam(learning_rate=0.0002, beta_1=0.5)\n",
        "\n",
        "# Loss function\n",
        "cross_entropy = tf.keras.losses.BinaryCrossentropy()\n",
        "\n",
        "def discriminator_loss(real_output, fake_output):\n",
        "    real_loss = cross_entropy(tf.ones_like(real_output), real_output)\n",
        "    fake_loss = cross_entropy(tf.zeros_like(fake_output), fake_output)\n",
        "    return (real_loss + fake_loss) / 2\n",
        "\n",
        "def generator_loss(fake_output):\n",
        "    return cross_entropy(tf.ones_like(fake_output), fake_output)\n",
        "\n",
        "# Set the label for real and fake images\n",
        "real_labels = np.ones((batch_size, 1))\n",
        "fake_labels = np.zeros((batch_size, 1))\n",
        "\n",
        "for epoch in range(epochs):\n",
        "  i=0\n",
        "  for batch in ds1:\n",
        "    # Generate a batch of fake images\n",
        "    z = np.random.normal(0,1,(batch_size, latent_dim))\n",
        "    with tf.GradientTape() as d_tape, tf.GradientTape() as g_tape:\n",
        "      fake_images = generator(z, training=True)\n",
        "\n",
        "      real = discriminator(batch[0], training=True)\n",
        "      fake = discriminator(fake_images, training=True)\n",
        "\n",
        "      d_loss = discriminator_loss(real, fake)\n",
        "      g_loss = generator_loss(fake)\n",
        "\n",
        "    d_grad = d_tape.gradient(d_loss, discriminator.trainable_variables)\n",
        "    g_grad = g_tape.gradient(g_loss, generator.trainable_variables)\n",
        "\n",
        "    # Update weights\n",
        "    optimizer_D.apply_gradients(zip(d_grad, discriminator.trainable_variables))\n",
        "    optimizer_G.apply_gradients(zip(g_grad, generator.trainable_variables))\n",
        "\n",
        "    if (i + 1) % 100 == 0:\n",
        "      print(f\"Epoch [{epoch+1}/{epochs}]\\\n",
        "      Batch [{i+1}/{len(ds1)}] DLoss: {d_loss.numpy():.4f} GLoss: {g_loss.numpy():.4f}\")\n",
        "    i+=1\n",
        "\n",
        "# Save the trained generator model\n",
        "generator.save('/path/to/trained_generator.h5')"
      ],
      "metadata": {
        "colab": {
          "base_uri": "https://localhost:8080/"
        },
        "id": "9Rdu4C-3giA-",
        "outputId": "b1453f97-932f-4d1b-ad27-158a1144083d"
      },
      "execution_count": 48,
      "outputs": [
        {
          "output_type": "stream",
          "name": "stdout",
          "text": [
            "Epoch [1/10]      Batch [100/1875] DLoss: 0.2989 GLoss: 1.5956\n",
            "Epoch [1/10]      Batch [200/1875] DLoss: 0.3999 GLoss: 2.4884\n",
            "Epoch [1/10]      Batch [300/1875] DLoss: 0.1903 GLoss: 2.8175\n",
            "Epoch [1/10]      Batch [400/1875] DLoss: 0.1946 GLoss: 3.0018\n",
            "Epoch [1/10]      Batch [500/1875] DLoss: 0.1692 GLoss: 2.5983\n",
            "Epoch [1/10]      Batch [600/1875] DLoss: 0.2664 GLoss: 2.4058\n",
            "Epoch [1/10]      Batch [700/1875] DLoss: 0.2806 GLoss: 2.5407\n",
            "Epoch [1/10]      Batch [800/1875] DLoss: 0.8667 GLoss: 0.4151\n",
            "Epoch [1/10]      Batch [900/1875] DLoss: 0.4626 GLoss: 1.9596\n",
            "Epoch [1/10]      Batch [1000/1875] DLoss: 0.3846 GLoss: 1.4661\n",
            "Epoch [1/10]      Batch [1100/1875] DLoss: 0.2867 GLoss: 2.2606\n",
            "Epoch [1/10]      Batch [1200/1875] DLoss: 0.6720 GLoss: 1.0748\n",
            "Epoch [1/10]      Batch [1300/1875] DLoss: 0.3515 GLoss: 2.2755\n",
            "Epoch [1/10]      Batch [1400/1875] DLoss: 0.2380 GLoss: 1.5684\n",
            "Epoch [1/10]      Batch [1500/1875] DLoss: 0.4685 GLoss: 3.2156\n",
            "Epoch [1/10]      Batch [1600/1875] DLoss: 0.5867 GLoss: 1.9382\n",
            "Epoch [1/10]      Batch [1700/1875] DLoss: 0.2527 GLoss: 2.0493\n",
            "Epoch [1/10]      Batch [1800/1875] DLoss: 0.2271 GLoss: 1.7180\n",
            "Epoch [2/10]      Batch [100/1875] DLoss: 0.2552 GLoss: 2.4461\n",
            "Epoch [2/10]      Batch [200/1875] DLoss: 0.3945 GLoss: 1.3111\n",
            "Epoch [2/10]      Batch [300/1875] DLoss: 0.2072 GLoss: 1.9234\n",
            "Epoch [2/10]      Batch [400/1875] DLoss: 0.4366 GLoss: 1.7067\n",
            "Epoch [2/10]      Batch [500/1875] DLoss: 0.2112 GLoss: 1.7560\n",
            "Epoch [2/10]      Batch [600/1875] DLoss: 0.3530 GLoss: 2.5186\n",
            "Epoch [2/10]      Batch [700/1875] DLoss: 0.5462 GLoss: 0.8774\n",
            "Epoch [2/10]      Batch [800/1875] DLoss: 0.1696 GLoss: 2.3045\n",
            "Epoch [2/10]      Batch [900/1875] DLoss: 0.6409 GLoss: 0.5688\n",
            "Epoch [2/10]      Batch [1000/1875] DLoss: 0.3643 GLoss: 1.1450\n",
            "Epoch [2/10]      Batch [1100/1875] DLoss: 0.3203 GLoss: 1.3317\n",
            "Epoch [2/10]      Batch [1200/1875] DLoss: 0.4284 GLoss: 1.4969\n",
            "Epoch [2/10]      Batch [1300/1875] DLoss: 0.4727 GLoss: 1.6172\n",
            "Epoch [2/10]      Batch [1400/1875] DLoss: 0.4782 GLoss: 2.7453\n",
            "Epoch [2/10]      Batch [1500/1875] DLoss: 0.2305 GLoss: 2.2838\n",
            "Epoch [2/10]      Batch [1600/1875] DLoss: 0.5705 GLoss: 2.1136\n",
            "Epoch [2/10]      Batch [1700/1875] DLoss: 0.2520 GLoss: 2.9375\n",
            "Epoch [2/10]      Batch [1800/1875] DLoss: 0.1475 GLoss: 3.0261\n",
            "Epoch [3/10]      Batch [100/1875] DLoss: 0.2324 GLoss: 3.0166\n",
            "Epoch [3/10]      Batch [200/1875] DLoss: 0.3157 GLoss: 4.1919\n",
            "Epoch [3/10]      Batch [300/1875] DLoss: 0.4061 GLoss: 1.0725\n",
            "Epoch [3/10]      Batch [400/1875] DLoss: 0.2652 GLoss: 2.9311\n",
            "Epoch [3/10]      Batch [500/1875] DLoss: 0.2288 GLoss: 2.5551\n",
            "Epoch [3/10]      Batch [600/1875] DLoss: 0.2525 GLoss: 3.4347\n",
            "Epoch [3/10]      Batch [700/1875] DLoss: 0.6985 GLoss: 2.9658\n",
            "Epoch [3/10]      Batch [800/1875] DLoss: 0.3790 GLoss: 1.0271\n",
            "Epoch [3/10]      Batch [900/1875] DLoss: 0.3125 GLoss: 1.5249\n",
            "Epoch [3/10]      Batch [1000/1875] DLoss: 0.5984 GLoss: 1.5251\n",
            "Epoch [3/10]      Batch [1100/1875] DLoss: 0.5257 GLoss: 0.7554\n",
            "Epoch [3/10]      Batch [1200/1875] DLoss: 0.2135 GLoss: 2.1988\n",
            "Epoch [3/10]      Batch [1300/1875] DLoss: 0.3457 GLoss: 1.6796\n",
            "Epoch [3/10]      Batch [1400/1875] DLoss: 0.2494 GLoss: 2.7561\n",
            "Epoch [3/10]      Batch [1500/1875] DLoss: 0.3659 GLoss: 2.6169\n",
            "Epoch [3/10]      Batch [1600/1875] DLoss: 0.2828 GLoss: 1.9961\n",
            "Epoch [3/10]      Batch [1700/1875] DLoss: 0.2012 GLoss: 2.4242\n",
            "Epoch [3/10]      Batch [1800/1875] DLoss: 0.5048 GLoss: 0.6494\n",
            "Epoch [4/10]      Batch [100/1875] DLoss: 0.4132 GLoss: 1.1200\n",
            "Epoch [4/10]      Batch [200/1875] DLoss: 0.1927 GLoss: 2.0596\n",
            "Epoch [4/10]      Batch [300/1875] DLoss: 0.3251 GLoss: 2.0516\n",
            "Epoch [4/10]      Batch [400/1875] DLoss: 0.2933 GLoss: 3.1443\n",
            "Epoch [4/10]      Batch [500/1875] DLoss: 0.2024 GLoss: 1.7582\n",
            "Epoch [4/10]      Batch [600/1875] DLoss: 0.1723 GLoss: 2.7460\n",
            "Epoch [4/10]      Batch [700/1875] DLoss: 0.4276 GLoss: 2.3010\n",
            "Epoch [4/10]      Batch [800/1875] DLoss: 0.1206 GLoss: 2.5132\n",
            "Epoch [4/10]      Batch [900/1875] DLoss: 0.1536 GLoss: 2.3083\n",
            "Epoch [4/10]      Batch [1000/1875] DLoss: 0.3212 GLoss: 1.6111\n",
            "Epoch [4/10]      Batch [1100/1875] DLoss: 0.0934 GLoss: 2.1962\n",
            "Epoch [4/10]      Batch [1200/1875] DLoss: 0.1368 GLoss: 2.1124\n",
            "Epoch [4/10]      Batch [1300/1875] DLoss: 0.3728 GLoss: 2.2455\n",
            "Epoch [4/10]      Batch [1400/1875] DLoss: 0.4988 GLoss: 1.1157\n",
            "Epoch [4/10]      Batch [1500/1875] DLoss: 0.5360 GLoss: 0.8630\n",
            "Epoch [4/10]      Batch [1600/1875] DLoss: 0.2726 GLoss: 2.0133\n",
            "Epoch [4/10]      Batch [1700/1875] DLoss: 0.3405 GLoss: 1.6708\n",
            "Epoch [4/10]      Batch [1800/1875] DLoss: 0.1031 GLoss: 2.5748\n",
            "Epoch [5/10]      Batch [100/1875] DLoss: 0.2215 GLoss: 3.0504\n",
            "Epoch [5/10]      Batch [200/1875] DLoss: 0.2891 GLoss: 1.8187\n",
            "Epoch [5/10]      Batch [300/1875] DLoss: 0.2714 GLoss: 1.3416\n",
            "Epoch [5/10]      Batch [400/1875] DLoss: 0.2465 GLoss: 3.5048\n",
            "Epoch [5/10]      Batch [500/1875] DLoss: 0.1708 GLoss: 2.1477\n",
            "Epoch [5/10]      Batch [600/1875] DLoss: 0.1512 GLoss: 2.1495\n",
            "Epoch [5/10]      Batch [700/1875] DLoss: 0.1541 GLoss: 2.6746\n",
            "Epoch [5/10]      Batch [800/1875] DLoss: 0.7827 GLoss: 0.4893\n",
            "Epoch [5/10]      Batch [900/1875] DLoss: 0.3023 GLoss: 1.9632\n",
            "Epoch [5/10]      Batch [1000/1875] DLoss: 0.2257 GLoss: 2.4134\n",
            "Epoch [5/10]      Batch [1100/1875] DLoss: 0.4838 GLoss: 0.7438\n",
            "Epoch [5/10]      Batch [1200/1875] DLoss: 0.2060 GLoss: 1.7709\n",
            "Epoch [5/10]      Batch [1300/1875] DLoss: 0.2375 GLoss: 2.0409\n",
            "Epoch [5/10]      Batch [1400/1875] DLoss: 0.7851 GLoss: 1.7084\n",
            "Epoch [5/10]      Batch [1500/1875] DLoss: 0.2154 GLoss: 1.9014\n",
            "Epoch [5/10]      Batch [1600/1875] DLoss: 0.1579 GLoss: 2.5129\n",
            "Epoch [5/10]      Batch [1700/1875] DLoss: 0.3242 GLoss: 2.3873\n",
            "Epoch [5/10]      Batch [1800/1875] DLoss: 0.1031 GLoss: 2.5759\n",
            "Epoch [6/10]      Batch [100/1875] DLoss: 0.3814 GLoss: 3.2331\n",
            "Epoch [6/10]      Batch [200/1875] DLoss: 0.3802 GLoss: 0.9491\n",
            "Epoch [6/10]      Batch [300/1875] DLoss: 0.1459 GLoss: 2.7438\n",
            "Epoch [6/10]      Batch [400/1875] DLoss: 0.4080 GLoss: 4.4280\n",
            "Epoch [6/10]      Batch [500/1875] DLoss: 0.0485 GLoss: 3.5649\n",
            "Epoch [6/10]      Batch [600/1875] DLoss: 0.1747 GLoss: 2.4584\n",
            "Epoch [6/10]      Batch [700/1875] DLoss: 0.2471 GLoss: 2.0250\n",
            "Epoch [6/10]      Batch [800/1875] DLoss: 0.8062 GLoss: 0.5557\n",
            "Epoch [6/10]      Batch [900/1875] DLoss: 0.1654 GLoss: 3.3669\n",
            "Epoch [6/10]      Batch [1000/1875] DLoss: 0.2666 GLoss: 1.9810\n",
            "Epoch [6/10]      Batch [1100/1875] DLoss: 0.1484 GLoss: 1.8971\n",
            "Epoch [6/10]      Batch [1200/1875] DLoss: 0.2253 GLoss: 1.7082\n",
            "Epoch [6/10]      Batch [1300/1875] DLoss: 0.1268 GLoss: 2.5986\n",
            "Epoch [6/10]      Batch [1400/1875] DLoss: 0.2377 GLoss: 2.5947\n",
            "Epoch [6/10]      Batch [1500/1875] DLoss: 0.1719 GLoss: 2.0812\n",
            "Epoch [6/10]      Batch [1600/1875] DLoss: 0.4901 GLoss: 3.5541\n",
            "Epoch [6/10]      Batch [1700/1875] DLoss: 0.4987 GLoss: 1.4624\n",
            "Epoch [6/10]      Batch [1800/1875] DLoss: 0.2780 GLoss: 1.8203\n",
            "Epoch [7/10]      Batch [100/1875] DLoss: 0.2708 GLoss: 3.8211\n",
            "Epoch [7/10]      Batch [200/1875] DLoss: 0.2366 GLoss: 1.8172\n",
            "Epoch [7/10]      Batch [300/1875] DLoss: 0.4498 GLoss: 2.2904\n",
            "Epoch [7/10]      Batch [400/1875] DLoss: 0.1314 GLoss: 4.8693\n",
            "Epoch [7/10]      Batch [500/1875] DLoss: 0.4489 GLoss: 1.1186\n",
            "Epoch [7/10]      Batch [600/1875] DLoss: 0.1217 GLoss: 3.4577\n",
            "Epoch [7/10]      Batch [700/1875] DLoss: 0.4648 GLoss: 2.1403\n",
            "Epoch [7/10]      Batch [800/1875] DLoss: 0.0392 GLoss: 4.6125\n",
            "Epoch [7/10]      Batch [900/1875] DLoss: 0.1329 GLoss: 2.9801\n",
            "Epoch [7/10]      Batch [1000/1875] DLoss: 0.1379 GLoss: 2.0574\n",
            "Epoch [7/10]      Batch [1100/1875] DLoss: 0.2345 GLoss: 1.3884\n",
            "Epoch [7/10]      Batch [1200/1875] DLoss: 0.5560 GLoss: 1.0336\n",
            "Epoch [7/10]      Batch [1300/1875] DLoss: 0.2596 GLoss: 4.1640\n",
            "Epoch [7/10]      Batch [1400/1875] DLoss: 0.2919 GLoss: 1.4395\n",
            "Epoch [7/10]      Batch [1500/1875] DLoss: 0.1875 GLoss: 2.3718\n",
            "Epoch [7/10]      Batch [1600/1875] DLoss: 0.9072 GLoss: 4.3457\n",
            "Epoch [7/10]      Batch [1700/1875] DLoss: 0.5510 GLoss: 2.2677\n",
            "Epoch [7/10]      Batch [1800/1875] DLoss: 0.4074 GLoss: 0.9579\n",
            "Epoch [8/10]      Batch [100/1875] DLoss: 0.4880 GLoss: 1.6741\n",
            "Epoch [8/10]      Batch [200/1875] DLoss: 0.1465 GLoss: 3.8928\n",
            "Epoch [8/10]      Batch [300/1875] DLoss: 0.1799 GLoss: 2.3233\n",
            "Epoch [8/10]      Batch [400/1875] DLoss: 0.2931 GLoss: 3.5583\n",
            "Epoch [8/10]      Batch [500/1875] DLoss: 0.1977 GLoss: 2.0133\n",
            "Epoch [8/10]      Batch [600/1875] DLoss: 0.1745 GLoss: 3.9191\n",
            "Epoch [8/10]      Batch [700/1875] DLoss: 0.3084 GLoss: 4.4639\n",
            "Epoch [8/10]      Batch [800/1875] DLoss: 0.1333 GLoss: 2.4500\n",
            "Epoch [8/10]      Batch [900/1875] DLoss: 0.0708 GLoss: 3.6140\n",
            "Epoch [8/10]      Batch [1000/1875] DLoss: 0.1031 GLoss: 2.4768\n",
            "Epoch [8/10]      Batch [1100/1875] DLoss: 0.1125 GLoss: 2.3356\n",
            "Epoch [8/10]      Batch [1200/1875] DLoss: 0.3068 GLoss: 1.4105\n",
            "Epoch [8/10]      Batch [1300/1875] DLoss: 0.3329 GLoss: 1.2245\n",
            "Epoch [8/10]      Batch [1400/1875] DLoss: 0.1551 GLoss: 2.6362\n",
            "Epoch [8/10]      Batch [1500/1875] DLoss: 0.2039 GLoss: 2.1532\n",
            "Epoch [8/10]      Batch [1600/1875] DLoss: 0.3729 GLoss: 2.8179\n",
            "Epoch [8/10]      Batch [1700/1875] DLoss: 0.2071 GLoss: 2.4154\n",
            "Epoch [8/10]      Batch [1800/1875] DLoss: 0.1501 GLoss: 2.3255\n",
            "Epoch [9/10]      Batch [100/1875] DLoss: 0.3522 GLoss: 3.1492\n",
            "Epoch [9/10]      Batch [200/1875] DLoss: 0.1541 GLoss: 4.7958\n",
            "Epoch [9/10]      Batch [300/1875] DLoss: 0.2279 GLoss: 1.8105\n",
            "Epoch [9/10]      Batch [400/1875] DLoss: 0.2088 GLoss: 2.9884\n",
            "Epoch [9/10]      Batch [500/1875] DLoss: 0.9283 GLoss: 0.3889\n",
            "Epoch [9/10]      Batch [600/1875] DLoss: 0.5225 GLoss: 1.1969\n",
            "Epoch [9/10]      Batch [700/1875] DLoss: 0.1780 GLoss: 3.0875\n",
            "Epoch [9/10]      Batch [800/1875] DLoss: 0.0833 GLoss: 3.4556\n",
            "Epoch [9/10]      Batch [900/1875] DLoss: 0.1905 GLoss: 2.2648\n",
            "Epoch [9/10]      Batch [1000/1875] DLoss: 0.1894 GLoss: 3.2426\n",
            "Epoch [9/10]      Batch [1100/1875] DLoss: 0.0551 GLoss: 4.0949\n",
            "Epoch [9/10]      Batch [1200/1875] DLoss: 0.0914 GLoss: 3.1737\n",
            "Epoch [9/10]      Batch [1300/1875] DLoss: 0.2466 GLoss: 2.0258\n",
            "Epoch [9/10]      Batch [1400/1875] DLoss: 0.1603 GLoss: 4.7137\n",
            "Epoch [9/10]      Batch [1500/1875] DLoss: 0.0624 GLoss: 3.2975\n",
            "Epoch [9/10]      Batch [1600/1875] DLoss: 1.0325 GLoss: 4.6218\n",
            "Epoch [9/10]      Batch [1700/1875] DLoss: 0.2236 GLoss: 3.8278\n",
            "Epoch [9/10]      Batch [1800/1875] DLoss: 0.1719 GLoss: 3.0125\n",
            "Epoch [10/10]      Batch [100/1875] DLoss: 0.1504 GLoss: 2.9589\n",
            "Epoch [10/10]      Batch [200/1875] DLoss: 0.4392 GLoss: 4.5262\n",
            "Epoch [10/10]      Batch [300/1875] DLoss: 0.2833 GLoss: 4.1666\n",
            "Epoch [10/10]      Batch [400/1875] DLoss: 0.2605 GLoss: 4.9081\n",
            "Epoch [10/10]      Batch [500/1875] DLoss: 0.0740 GLoss: 3.7143\n",
            "Epoch [10/10]      Batch [600/1875] DLoss: 0.4265 GLoss: 3.0268\n",
            "Epoch [10/10]      Batch [700/1875] DLoss: 0.1787 GLoss: 3.8005\n",
            "Epoch [10/10]      Batch [800/1875] DLoss: 0.1421 GLoss: 2.3163\n",
            "Epoch [10/10]      Batch [900/1875] DLoss: 0.2143 GLoss: 3.5532\n",
            "Epoch [10/10]      Batch [1000/1875] DLoss: 0.7051 GLoss: 0.5762\n",
            "Epoch [10/10]      Batch [1100/1875] DLoss: 0.1257 GLoss: 4.0488\n",
            "Epoch [10/10]      Batch [1200/1875] DLoss: 0.2255 GLoss: 1.3300\n",
            "Epoch [10/10]      Batch [1300/1875] DLoss: 0.5588 GLoss: 0.7273\n",
            "Epoch [10/10]      Batch [1400/1875] DLoss: 0.1779 GLoss: 2.1470\n",
            "Epoch [10/10]      Batch [1500/1875] DLoss: 0.3384 GLoss: 1.0670\n",
            "Epoch [10/10]      Batch [1600/1875] DLoss: 0.1075 GLoss: 3.4565\n",
            "Epoch [10/10]      Batch [1700/1875] DLoss: 0.4384 GLoss: 3.8643\n",
            "Epoch [10/10]      Batch [1800/1875] DLoss: 0.0395 GLoss: 5.6514\n"
          ]
        },
        {
          "output_type": "stream",
          "name": "stderr",
          "text": [
            "/usr/local/lib/python3.10/dist-packages/keras/src/engine/training.py:3103: UserWarning: You are saving your model as an HDF5 file via `model.save()`. This file format is considered legacy. We recommend using instead the native Keras format, e.g. `model.save('my_model.keras')`.\n",
            "  saving_api.save_model(\n",
            "WARNING:tensorflow:Compiled the loaded model, but the compiled metrics have yet to be built. `model.compile_metrics` will be empty until you train or evaluate the model.\n"
          ]
        }
      ]
    },
    {
      "cell_type": "code",
      "source": [
        "  z = tf.random.normal((9, latent_dim))\n",
        "  generated = generator.predict(z)\n",
        "  print(generated.shape)\n",
        "  grid = torchvision.utils.make_grid(np.transpose(torch.tensor(generated), (0, 3, 2, 1)),nrow=3, normalize=True)\n",
        "  print(grid.shape)\n",
        "\n",
        "  plt.imshow(np.transpose(grid, (2, 1, 0)))\n",
        "  plt.axis(\"off\")\n",
        "  plt.show()"
      ],
      "metadata": {
        "colab": {
          "base_uri": "https://localhost:8080/",
          "height": 458
        },
        "id": "rJAwvieHiua1",
        "outputId": "eac529a1-8bec-4af8-a3e7-d8c08647f8f0"
      },
      "execution_count": 67,
      "outputs": [
        {
          "output_type": "stream",
          "name": "stdout",
          "text": [
            "1/1 [==============================] - 0s 53ms/step\n",
            "(9, 28, 28, 1)\n",
            "torch.Size([3, 92, 92])\n"
          ]
        },
        {
          "output_type": "display_data",
          "data": {
            "text/plain": [
              "<Figure size 640x480 with 1 Axes>"
            ],
            "image/png": "[encoded data removed]"
          },
          "metadata": {}
        }
      ]
    },
    {
      "cell_type": "code",
      "source": [
        "generator.save('FashionMNISTGenerator.keras')"
      ],
      "metadata": {
        "id": "s1dLK8HMBR2g"
      },
      "execution_count": 60,
      "outputs": []
    },
    {
      "cell_type": "code",
      "source": [
        "discriminator.save('FashionMNISTDiscriminator.keras')"
      ],
      "metadata": {
        "id": "JYZBJgBHdVUO"
      },
      "execution_count": 58,
      "outputs": []
    }
  ]
}